{
 "cells": [
  {
   "cell_type": "markdown",
   "metadata": {},
   "source": [
    "Mooncoin Market Analysis\n",
    "========================"
   ]
  },
  {
   "cell_type": "markdown",
   "metadata": {},
   "source": [
    "Documentation:\n",
    "- https://github.com/ccxt/ccxt/wiki"
   ]
  },
  {
   "cell_type": "code",
   "execution_count": 1,
   "metadata": {},
   "outputs": [],
   "source": [
    "import ccxt\n",
    "from pydash import py_ as _\n",
    "from datetime import datetime, timedelta\n",
    "from dateutil.parser import parse\n",
    "import pandas as pd\n",
    "import datetime\n",
    "import numpy as np\n",
    "import matplotlib\n",
    "import re\n",
    "\n",
    "pd.set_option('display.notebook_repr_html', False)\n",
    "pd.set_option('display.max_columns', 8)\n",
    "pd.set_option('display.max_rows', 8)\n",
    "\n",
    "def print_full(x):\n",
    "    pd.set_option('display.max_rows', len(x))\n",
    "    print(x)\n",
    "    pd.reset_option('display.max_rows')"
   ]
  },
  {
   "cell_type": "code",
   "execution_count": 2,
   "metadata": {},
   "outputs": [],
   "source": [
    "bleutrade = ccxt.bleutrade()\n",
    "bittrex   = ccxt.bittrex()"
   ]
  },
  {
   "cell_type": "code",
   "execution_count": 3,
   "metadata": {},
   "outputs": [
    {
     "data": {
      "text/plain": [
       "            amount            datetime  side         price  btc_amount\n",
       "0    984119.497245 2017-12-31 18:08:23   buy  2.000000e-08    0.019682\n",
       "1    505620.502755 2017-12-31 18:08:23   buy  2.000000e-08    0.010112\n",
       "2     52000.000000 2017-12-31 18:01:14   buy  2.000000e-08    0.001040\n",
       "3      5000.000000 2017-12-31 18:00:55   buy  2.000000e-08    0.000100\n",
       "..             ...                 ...   ...           ...         ...\n",
       "196   14786.000000 2017-12-31 03:37:35  sell  1.000000e-08    0.000148\n",
       "197   14786.000000 2017-12-31 03:37:35  sell  1.000000e-08    0.000148\n",
       "198   14786.000000 2017-12-31 03:37:35  sell  1.000000e-08    0.000148\n",
       "199   14786.000000 2017-12-31 03:37:35  sell  1.000000e-08    0.000148\n",
       "\n",
       "[200 rows x 5 columns]"
      ]
     },
     "execution_count": 3,
     "metadata": {},
     "output_type": "execute_result"
    }
   ],
   "source": [
    "moonbtc_trades = pd.DataFrame(bleutrade.fetch_trades(\"MOON/BTC\", params={\"count\": 200}), columns=['amount', 'datetime', 'side', 'info'])\n",
    "moonbtc_trades['price']      = moonbtc_trades['info'].map(lambda x: float(x['Price']))\n",
    "moonbtc_trades['btc_amount'] = moonbtc_trades['amount'] * moonbtc_trades['price']\n",
    "del moonbtc_trades['info']\n",
    "moonbtc_trades['datetime'] = pd.to_datetime(moonbtc_trades['datetime']) # convert seconds to nanoseconds\n",
    "moonbtc_trades"
   ]
  },
  {
   "cell_type": "markdown",
   "metadata": {},
   "source": [
    "Mooncoin Volumes\n",
    "----------------"
   ]
  },
  {
   "cell_type": "markdown",
   "metadata": {},
   "source": [
    "**How far back in time does bleutrade order moonbtc_trades go?**\n",
    "\n",
    "- 2017-12-31: for max moonbtc_trades of 200 orders, Timedelta('0 days 11:28:11'), which is less than a day"
   ]
  },
  {
   "cell_type": "code",
   "execution_count": 4,
   "metadata": {},
   "outputs": [
    {
     "data": {
      "text/plain": [
       "Timedelta('0 days 14:30:48')"
      ]
     },
     "execution_count": 4,
     "metadata": {},
     "output_type": "execute_result"
    }
   ],
   "source": [
    "moonbtc_trades['datetime'].max() - moonbtc_trades['datetime'].min()"
   ]
  },
  {
   "cell_type": "markdown",
   "metadata": {},
   "source": [
    "**What is the average order size?**\n",
    "\n",
    "- 2017-12-31: Average orders are BTC 0.006385 (buy at 2 satoshi) - 0.007357 (sell at 1 satoshi) which is about $85-100 USD"
   ]
  },
  {
   "cell_type": "code",
   "execution_count": 5,
   "metadata": {},
   "outputs": [
    {
     "data": {
      "text/plain": [
       "             amount         price  btc_amount\n",
       "side                                         \n",
       "buy   308608.173097  2.000000e-08    0.006172\n",
       "sell  874138.773931  1.000000e-08    0.008741"
      ]
     },
     "execution_count": 5,
     "metadata": {},
     "output_type": "execute_result"
    }
   ],
   "source": [
    "moonbtc_trades.groupby('side').mean()"
   ]
  },
  {
   "cell_type": "markdown",
   "metadata": {},
   "source": [
    "**What is the relative volume on the buy and sell sides of the market**\n",
    "\n",
    "- 2017-12-31: There is currently 2.9x BTC / 5.8x MOON volume on the 1 satoshi sell side of the market"
   ]
  },
  {
   "cell_type": "code",
   "execution_count": 6,
   "metadata": {},
   "outputs": [
    {
     "data": {
      "text/plain": [
       "            amount  btc_amount\n",
       "side                          \n",
       "buy   2.160257e+07    0.432051\n",
       "sell  1.136380e+08    1.136380"
      ]
     },
     "execution_count": 6,
     "metadata": {},
     "output_type": "execute_result"
    }
   ],
   "source": [
    "moonbtc_trades_sum = moonbtc_trades[['amount', 'btc_amount','side']].groupby('side').sum()\n",
    "moonbtc_trades_sum"
   ]
  },
  {
   "cell_type": "code",
   "execution_count": 7,
   "metadata": {},
   "outputs": [
    {
     "data": {
      "text/plain": [
       "amount        5.260394\n",
       "btc_amount    2.630197\n",
       "dtype: float64"
      ]
     },
     "execution_count": 7,
     "metadata": {},
     "output_type": "execute_result"
    }
   ],
   "source": [
    "moonbtc_trades_sum.loc['sell'] / moonbtc_trades_sum.loc['buy']"
   ]
  },
  {
   "cell_type": "markdown",
   "metadata": {},
   "source": [
    "**Can we plot a chart for the buy/sell volume history**\n",
    "\n",
    "- 2017-12-31 - Apart from a massive 0.9 BTC sell spike at 7am, volumes remain low but about even on both sides of the market"
   ]
  },
  {
   "cell_type": "code",
   "execution_count": 8,
   "metadata": {},
   "outputs": [
    {
     "data": {
      "text/plain": [
       "<matplotlib.axes._subplots.AxesSubplot at 0x10b84d3c8>"
      ]
     },
     "execution_count": 8,
     "metadata": {},
     "output_type": "execute_result"
    }
   ],
   "source": [
    "moonbtc_trades_agg = moonbtc_trades.groupby([moonbtc_trades['datetime'].dt.hour, 'side'])['btc_amount'].sum()\n",
    "moonbtc_trades_agg.unstack().plot()"
   ]
  },
  {
   "cell_type": "markdown",
   "metadata": {},
   "source": [
    "Price\n",
    "-----"
   ]
  },
  {
   "cell_type": "markdown",
   "metadata": {},
   "source": [
    "** What is the price of mooncoin **"
   ]
  },
  {
   "cell_type": "code",
   "execution_count": 9,
   "metadata": {},
   "outputs": [
    {
     "data": {
      "text/plain": [
       "{'ask': 2e-08,\n",
       " 'average': None,\n",
       " 'baseVolume': 178496018.99498266,\n",
       " 'bid': 1e-08,\n",
       " 'change': None,\n",
       " 'close': None,\n",
       " 'datetime': '2017-12-31T18:25:10.000Z',\n",
       " 'first': None,\n",
       " 'high': 2e-08,\n",
       " 'info': {'Ask': '0.00000002',\n",
       "  'Average': '0.00000001',\n",
       "  'BaseCurrency': 'Bitcoin',\n",
       "  'BaseVolume': '2.15027971',\n",
       "  'Bid': '0.00000001',\n",
       "  'High': '0.00000002',\n",
       "  'IsActive': 'true',\n",
       "  'Last': '0.00000002',\n",
       "  'Low': '0.00000001',\n",
       "  'MarketCurrency': 'Mooncoin',\n",
       "  'MarketName': 'MOON_BTC',\n",
       "  'PrevDay': '0.00000002',\n",
       "  'TimeStamp': '2017-12-31 18:25:10',\n",
       "  'Volume': '178496018.99498266'},\n",
       " 'last': 2e-08,\n",
       " 'low': 1e-08,\n",
       " 'open': None,\n",
       " 'percentage': None,\n",
       " 'quoteVolume': 2.15027971,\n",
       " 'symbol': 'MOON/BTC',\n",
       " 'timestamp': 1514744710000,\n",
       " 'vwap': None}"
      ]
     },
     "execution_count": 9,
     "metadata": {},
     "output_type": "execute_result"
    }
   ],
   "source": [
    "tickers = {\n",
    "    'bleutrade': bleutrade.fetch_tickers(),\n",
    "    'bittrex':   bittrex.fetch_tickers()\n",
    "}\n",
    "tickers['bleutrade']['MOON/BTC']"
   ]
  },
  {
   "cell_type": "code",
   "execution_count": 10,
   "metadata": {},
   "outputs": [],
   "source": [
    "def bid(market):       return market['bid']\n",
    "def mid(market):       return (market['ask'] + market['bid'])/2\n",
    "def spread(market):    return (market['ask'] - market['bid'])\n",
    "def spread_pc(market): return spread(market)/mid(market)"
   ]
  },
  {
   "cell_type": "code",
   "execution_count": 11,
   "metadata": {},
   "outputs": [
    {
     "data": {
      "text/plain": [
       "{'bittrex': {'BTC/USDT': 13830.0,\n",
       "  'DOGE/BTC': 6.4e-07,\n",
       "  'ETH/BTC': 0.05300001,\n",
       "  'MOON/BTC/USDT': 0.0001383,\n",
       "  'MOON/DOGE/BTC': 1.21600192e-08,\n",
       "  'MOON/DOGE/BTC/USDT': 0.000165545361387,\n",
       "  'MOON/ETH/BTC': 1.0600002e-08,\n",
       "  'MOON/ETH/BTC/USDT': 0.0001447183647},\n",
       " 'bleutrade': {'DOGE/BTC': 6.3e-07,\n",
       "  'ETH/BTC': 0.05232045,\n",
       "  'MOON/BTC': 1e-08,\n",
       "  'MOON/DOGE': 0.01900003,\n",
       "  'MOON/DOGE/BTC': 1.19700189e-08,\n",
       "  'MOON/ETH': 2e-07,\n",
       "  'MOON/ETH/BTC': 1.0464089999999999e-08}}"
      ]
     },
     "execution_count": 11,
     "metadata": {},
     "output_type": "execute_result"
    }
   ],
   "source": [
    "\n",
    "price = {'bittrex': {}, 'bleutrade': {}}\n",
    "price['bittrex']['BTC/USDT']    = bid(tickers['bittrex']['BTC/USDT'])\n",
    "price['bittrex']['DOGE/BTC']    = bid(tickers['bittrex']['DOGE/BTC'])\n",
    "price['bittrex']['ETH/BTC']     = bid(tickers['bittrex']['ETH/BTC'])\n",
    "price['bleutrade']['DOGE/BTC']  = bid(tickers['bleutrade']['DOGE/BTC'])\n",
    "price['bleutrade']['ETH/BTC']   = bid(tickers['bleutrade']['ETH/BTC'])\n",
    "price['bleutrade']['MOON/BTC']  = bid(tickers['bleutrade']['MOON/BTC'])\n",
    "price['bleutrade']['MOON/DOGE'] = bid(tickers['bleutrade']['MOON/DOGE'])\n",
    "price['bleutrade']['MOON/ETH']  = bid(tickers['bleutrade']['MOON/ETH']) \n",
    "\n",
    "price['bleutrade']['MOON/ETH/BTC']     = price['bleutrade']['MOON/ETH']  * price['bleutrade']['ETH/BTC']\n",
    "price['bleutrade']['MOON/DOGE/BTC']    = price['bleutrade']['MOON/DOGE'] * price['bleutrade']['DOGE/BTC']\n",
    "price['bittrex']['MOON/ETH/BTC']       = price['bleutrade']['MOON/ETH']  * price['bittrex']['ETH/BTC']\n",
    "price['bittrex']['MOON/DOGE/BTC']      = price['bleutrade']['MOON/DOGE'] * price['bittrex']['DOGE/BTC']\n",
    "price['bittrex']['MOON/ETH/BTC/USDT']  = price['bleutrade']['MOON/ETH/BTC']  * price['bittrex']['BTC/USDT']\n",
    "price['bittrex']['MOON/DOGE/BTC/USDT'] = price['bleutrade']['MOON/DOGE/BTC'] * price['bittrex']['BTC/USDT']\n",
    "price['bittrex']['MOON/BTC/USDT']      = price['bleutrade']['MOON/BTC']      * price['bittrex']['BTC/USDT']                                                                                         \n",
    "\n",
    "price                                                                                              "
   ]
  },
  {
   "cell_type": "code",
   "execution_count": 46,
   "metadata": {},
   "outputs": [
    {
     "data": {
      "text/plain": [
       "                 ask        bid       last         mid     spread\n",
       "DOGE/BTC     6.4e-07    6.3e-07    6.3e-07    6.35e-07   0.015873\n",
       "DOGE/ETH   1.264e-05  1.115e-05  1.264e-05  1.1895e-05   0.133632\n",
       "ETH/BTC    0.0534218  0.0523219  0.0530004   0.0528718  0.0210228\n",
       "ETH/DOGE       90000      65002      65002       77501   0.384573\n",
       "MOON/BTC       2e-08      1e-08      2e-08     1.5e-08          1\n",
       "MOON/DOGE  0.0239999      0.019      0.019      0.0215   0.263152\n",
       "MOON/ETH     2.3e-07      2e-07    2.3e-07    2.15e-07       0.15"
      ]
     },
     "execution_count": 46,
     "metadata": {},
     "output_type": "execute_result"
    }
   ],
   "source": [
    "bleutrade_markets = pd.DataFrame(bleutrade.fetch_tickers()).transpose()[['ask', 'bid', 'last']]\n",
    "bleutrade_markets['mid']    = (bleutrade_markets['ask'] + bleutrade_markets['bid']) / 2\n",
    "bleutrade_markets['spread'] = (bleutrade_markets['ask'] - bleutrade_markets['bid']) / bleutrade_markets['bid']\n",
    "bleutrade_markets = bleutrade_markets.filter(regex=\"MOON/|ETH/|DOGE/\", axis=0)\n",
    "bleutrade_markets"
   ]
  },
  {
   "cell_type": "code",
   "execution_count": 52,
   "metadata": {},
   "outputs": [
    {
     "name": "stdout",
     "output_type": "stream",
     "text": [
      "                       ask          bid         last          mid     spread\n",
      "DOGE/BTC           6.4e-07      6.3e-07      6.3e-07     6.35e-07   0.015873\n",
      "DOGE/ETH         1.264e-05    1.115e-05    1.264e-05   1.1895e-05   0.133632\n",
      "ETH/BTC          0.0534218    0.0523219    0.0530004    0.0528718  0.0210228\n",
      "ETH/DOGE             90000        65002        65002        77501   0.384573\n",
      "MOON/BTC             2e-08        1e-08        2e-08      1.5e-08          1\n",
      "MOON/DOGE        0.0239999        0.019        0.019       0.0215   0.263152\n",
      "MOON/ETH           2.3e-07        2e-07      2.3e-07     2.15e-07       0.15\n",
      "DOGE/ETH/BTC   6.75252e-07  5.83389e-07  6.69924e-07   6.2891e-07   0.154655\n",
      "ETH/DOGE/BTC        0.0576    0.0409513    0.0409513    0.0492131   0.400446\n",
      "MOON/DOGE/BTC  1.53599e-08    1.197e-08    1.197e-08  1.36525e-08   0.279025\n",
      "MOON/ETH/BTC    1.2287e-08  1.04644e-08  1.21901e-08  1.13674e-08   0.171023\n"
     ]
    }
   ],
   "source": [
    "for symbol in bleutrade_markets.transpose():\n",
    "    top  = re.split('/', symbol)[0]\n",
    "    base = re.split('/', symbol)[-1]\n",
    "    if base == 'BTC': continue\n",
    "    if base in ['ETH', 'DOGE']:\n",
    "        bleutrade_markets.loc[symbol+'/BTC'] = bleutrade_markets.loc[symbol] * bleutrade_markets.loc[base+'/BTC'] \n",
    "        bleutrade_markets.loc[symbol+'/BTC']['spread'] = bleutrade_markets.loc[symbol]['spread'] + bleutrade_markets.loc[base+'/BTC']['spread']         \n",
    "\n",
    "print_full(bleutrade_markets)"
   ]
  },
  {
   "cell_type": "code",
   "execution_count": null,
   "metadata": {},
   "outputs": [],
   "source": []
  }
 ],
 "metadata": {
  "kernelspec": {
   "display_name": "Python 3",
   "language": "python",
   "name": "python3"
  },
  "language_info": {
   "codemirror_mode": {
    "name": "ipython",
    "version": 3
   },
   "file_extension": ".py",
   "mimetype": "text/x-python",
   "name": "python",
   "nbconvert_exporter": "python",
   "pygments_lexer": "ipython3",
   "version": "3.6.3"
  }
 },
 "nbformat": 4,
 "nbformat_minor": 2
}
