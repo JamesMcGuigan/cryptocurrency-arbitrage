{
 "cells": [
  {
   "cell_type": "markdown",
   "metadata": {},
   "source": [
    "Mooncoin Market Analysis\n",
    "========================"
   ]
  },
  {
   "cell_type": "markdown",
   "metadata": {},
   "source": [
    "Documentation:\n",
    "- https://github.com/ccxt/ccxt/wiki"
   ]
  },
  {
   "cell_type": "code",
   "execution_count": 1,
   "metadata": {},
   "outputs": [],
   "source": [
    "import ccxt\n",
    "from pydash import py_ as _\n",
    "from datetime import datetime, timedelta\n",
    "from dateutil.parser import parse\n",
    "import pandas as pd\n",
    "import datetime\n",
    "import numpy as np\n",
    "import matplotlib\n",
    "import re\n",
    "\n",
    "pd.set_option('display.notebook_repr_html', False)\n",
    "pd.set_option('display.max_columns', 8)\n",
    "pd.set_option('display.max_rows', 8)\n",
    "\n",
    "def print_full(x):\n",
    "    pd.set_option('display.max_rows', len(x))\n",
    "    print(x)\n",
    "    pd.reset_option('display.max_rows')"
   ]
  },
  {
   "cell_type": "code",
   "execution_count": 2,
   "metadata": {},
   "outputs": [],
   "source": [
    "bleutrade = ccxt.bleutrade()\n",
    "bittrex   = ccxt.bittrex()"
   ]
  },
  {
   "cell_type": "code",
   "execution_count": 3,
   "metadata": {},
   "outputs": [
    {
     "data": {
      "text/plain": [
       "           amount            datetime side         price  btc_amount\n",
       "0    4.890245e+06 2018-01-01 11:12:27  buy  2.000000e-08    0.097805\n",
       "1    1.746458e+07 2018-01-01 11:11:31  buy  2.000000e-08    0.349292\n",
       "2    2.094763e+07 2018-01-01 11:11:31  buy  2.000000e-08    0.418953\n",
       "3    3.000000e+05 2018-01-01 11:11:31  buy  2.000000e-08    0.006000\n",
       "..            ...                 ...  ...           ...         ...\n",
       "196  6.000000e+05 2018-01-01 09:05:55  buy  2.000000e-08    0.012000\n",
       "197  2.222368e+06 2018-01-01 09:05:55  buy  2.000000e-08    0.044447\n",
       "198  3.529676e+03 2018-01-01 09:05:06  buy  2.000000e-08    0.000071\n",
       "199  1.000000e+05 2018-01-01 08:53:52  buy  2.000000e-08    0.002000\n",
       "\n",
       "[200 rows x 5 columns]"
      ]
     },
     "execution_count": 3,
     "metadata": {},
     "output_type": "execute_result"
    }
   ],
   "source": [
    "moonbtc_trades = pd.DataFrame(bleutrade.fetch_trades(\"MOON/BTC\", params={\"count\": 200}), columns=['amount', 'datetime', 'side', 'info'])\n",
    "moonbtc_trades['price']      = moonbtc_trades['info'].map(lambda x: float(x['Price']))\n",
    "moonbtc_trades['btc_amount'] = moonbtc_trades['amount'] * moonbtc_trades['price']\n",
    "del moonbtc_trades['info']\n",
    "moonbtc_trades['datetime'] = pd.to_datetime(moonbtc_trades['datetime']) # convert seconds to nanoseconds\n",
    "moonbtc_trades"
   ]
  },
  {
   "cell_type": "markdown",
   "metadata": {},
   "source": [
    "Mooncoin Volumes\n",
    "----------------"
   ]
  },
  {
   "cell_type": "markdown",
   "metadata": {},
   "source": [
    "**How far back in time does bleutrade order moonbtc_trades go?**\n",
    "\n",
    "- 2017-12-31: for max moonbtc_trades of 200 orders, Timedelta('0 days 11:28:11'), which is less than a day"
   ]
  },
  {
   "cell_type": "code",
   "execution_count": 4,
   "metadata": {},
   "outputs": [
    {
     "data": {
      "text/plain": [
       "Timedelta('0 days 02:18:35')"
      ]
     },
     "execution_count": 4,
     "metadata": {},
     "output_type": "execute_result"
    }
   ],
   "source": [
    "moonbtc_trades['datetime'].max() - moonbtc_trades['datetime'].min()"
   ]
  },
  {
   "cell_type": "markdown",
   "metadata": {},
   "source": [
    "**What is the average order size?**\n",
    "\n",
    "- 2017-12-31: Average orders are BTC 0.006385 (buy@2) - 0.007357 (sell@1) which is about $85-100 USD\n",
    "- 2017-12-31: Average orders are BTC 0.034786 (buy@2) - 0.000630 (sell@1) which is an order of magnitude shift in both directions"
   ]
  },
  {
   "cell_type": "code",
   "execution_count": 5,
   "metadata": {},
   "outputs": [
    {
     "data": {
      "text/plain": [
       "            amount         price  btc_amount\n",
       "side                                        \n",
       "buy   1.739293e+06  2.000000e-08    0.034786\n",
       "sell  6.300039e+04  1.000000e-08    0.000630"
      ]
     },
     "execution_count": 5,
     "metadata": {},
     "output_type": "execute_result"
    }
   ],
   "source": [
    "moonbtc_trades.groupby('side').mean()"
   ]
  },
  {
   "cell_type": "markdown",
   "metadata": {},
   "source": [
    "**What is the relative volume on the buy and sell sides of the market**\n",
    "\n",
    "- 2017-12-31: There is currently 2.9x BTC / 5.8x MOON volume on the sell@1 side of the market\n",
    "- 2018-01-01: There is currently 3.4 BTC / 6.8x MOON volume on the buy@2 side of the market"
   ]
  },
  {
   "cell_type": "code",
   "execution_count": 6,
   "metadata": {},
   "outputs": [
    {
     "data": {
      "text/plain": [
       "            amount  btc_amount\n",
       "side                          \n",
       "buy   3.443801e+08    6.887602\n",
       "sell  1.260008e+05    0.001260"
      ]
     },
     "execution_count": 6,
     "metadata": {},
     "output_type": "execute_result"
    }
   ],
   "source": [
    "moonbtc_trades_sum = moonbtc_trades[['amount', 'btc_amount','side']].groupby('side').sum()\n",
    "moonbtc_trades_sum"
   ]
  },
  {
   "cell_type": "code",
   "execution_count": 7,
   "metadata": {},
   "outputs": [
    {
     "data": {
      "text/plain": [
       "amount        0.000366\n",
       "btc_amount    0.000183\n",
       "dtype: float64"
      ]
     },
     "execution_count": 7,
     "metadata": {},
     "output_type": "execute_result"
    }
   ],
   "source": [
    "moonbtc_trades_sum.loc['sell'] / moonbtc_trades_sum.loc['buy']"
   ]
  },
  {
   "cell_type": "markdown",
   "metadata": {},
   "source": [
    "**Can we plot a chart for the buy/sell volume history**\n",
    "\n",
    "- 2017-12-31 - Apart from a massive 0.9 BTC sell@1 spike at 7am, volumes remain low but about even on both sides of the market\n",
    "- 2018-01-01 - Massive 5 BTC buy@2 spike at 10am"
   ]
  },
  {
   "cell_type": "code",
   "execution_count": 14,
   "metadata": {},
   "outputs": [
    {
     "data": {
      "text/plain": [
       "<matplotlib.axes._subplots.AxesSubplot at 0x10708f4e0>"
      ]
     },
     "execution_count": 14,
     "metadata": {},
     "output_type": "execute_result"
    },
    {
     "data": {
      "image/png": "[encoded data removed]",
      "text/plain": [
       "<matplotlib.figure.Figure at 0x1051ea8d0>"
      ]
     },
     "metadata": {},
     "output_type": "display_data"
    }
   ],
   "source": [
    "moonbtc_trades_agg = moonbtc_trades.groupby([moonbtc_trades['datetime'].dt.hour, 'side'])['btc_amount'].sum()\n",
    "moonbtc_trades_agg.unstack().plot()"
   ]
  },
  {
   "cell_type": "markdown",
   "metadata": {},
   "source": [
    "Price\n",
    "-----"
   ]
  },
  {
   "cell_type": "markdown",
   "metadata": {},
   "source": [
    "** What is the price of mooncoin **"
   ]
  },
  {
   "cell_type": "code",
   "execution_count": 9,
   "metadata": {},
   "outputs": [
    {
     "data": {
      "text/plain": [
       "{'ask': 2e-08,\n",
       " 'average': None,\n",
       " 'baseVolume': 683103739.8300378,\n",
       " 'bid': 1e-08,\n",
       " 'change': None,\n",
       " 'close': None,\n",
       " 'datetime': '2018-01-01T11:13:04.000Z',\n",
       " 'first': None,\n",
       " 'high': 2e-08,\n",
       " 'info': {'Ask': '0.00000002',\n",
       "  'Average': '0.00000002',\n",
       "  'BaseCurrency': 'Bitcoin',\n",
       "  'BaseVolume': '13.03672103',\n",
       "  'Bid': '0.00000001',\n",
       "  'High': '0.00000002',\n",
       "  'IsActive': 'true',\n",
       "  'Last': '0.00000002',\n",
       "  'Low': '0.00000001',\n",
       "  'MarketCurrency': 'Mooncoin',\n",
       "  'MarketName': 'MOON_BTC',\n",
       "  'PrevDay': '0.00000002',\n",
       "  'TimeStamp': '2018-01-01 11:13:04',\n",
       "  'Volume': '683103739.83003783'},\n",
       " 'last': 2e-08,\n",
       " 'low': 1e-08,\n",
       " 'open': None,\n",
       " 'percentage': None,\n",
       " 'quoteVolume': 13.03672103,\n",
       " 'symbol': 'MOON/BTC',\n",
       " 'timestamp': 1514805184000,\n",
       " 'vwap': None}"
      ]
     },
     "execution_count": 9,
     "metadata": {},
     "output_type": "execute_result"
    }
   ],
   "source": [
    "tickers = {\n",
    "    'bleutrade': bleutrade.fetch_tickers(),\n",
    "    'bittrex':   bittrex.fetch_tickers()\n",
    "}\n",
    "tickers['bleutrade']['MOON/BTC']"
   ]
  },
  {
   "cell_type": "code",
   "execution_count": 10,
   "metadata": {},
   "outputs": [],
   "source": [
    "def bid(market):       return market['bid']\n",
    "def mid(market):       return (market['ask'] + market['bid'])/2\n",
    "def spread(market):    return (market['ask'] - market['bid'])\n",
    "def spread_pc(market): return spread(market)/mid(market)"
   ]
  },
  {
   "cell_type": "code",
   "execution_count": 11,
   "metadata": {},
   "outputs": [
    {
     "data": {
      "text/plain": [
       "{'bittrex': {'BTC/USDT': 13140.3139,\n",
       "  'DOGE/BTC': 6.3e-07,\n",
       "  'ETH/BTC': 0.05601881,\n",
       "  'MOON/BTC/USDT': 0.000131403139,\n",
       "  'MOON/DOGE/BTC': 1.83330063e-08,\n",
       "  'MOON/DOGE/BTC/USDT': 0.00023325379219481476,\n",
       "  'MOON/ETH/BTC': 1.6805643e-08,\n",
       "  'MOON/ETH/BTC/USDT': 0.00021760363760494166},\n",
       " 'bleutrade': {'DOGE/BTC': 6.1e-07,\n",
       "  'ETH/BTC': 0.05520001,\n",
       "  'MOON/BTC': 1e-08,\n",
       "  'MOON/DOGE': 0.02910001,\n",
       "  'MOON/DOGE/BTC': 1.7751006099999998e-08,\n",
       "  'MOON/ETH': 3e-07,\n",
       "  'MOON/ETH/BTC': 1.6560003e-08}}"
      ]
     },
     "execution_count": 11,
     "metadata": {},
     "output_type": "execute_result"
    }
   ],
   "source": [
    "\n",
    "price = {'bittrex': {}, 'bleutrade': {}}\n",
    "price['bittrex']['BTC/USDT']    = bid(tickers['bittrex']['BTC/USDT'])\n",
    "price['bittrex']['DOGE/BTC']    = bid(tickers['bittrex']['DOGE/BTC'])\n",
    "price['bittrex']['ETH/BTC']     = bid(tickers['bittrex']['ETH/BTC'])\n",
    "price['bleutrade']['DOGE/BTC']  = bid(tickers['bleutrade']['DOGE/BTC'])\n",
    "price['bleutrade']['ETH/BTC']   = bid(tickers['bleutrade']['ETH/BTC'])\n",
    "price['bleutrade']['MOON/BTC']  = bid(tickers['bleutrade']['MOON/BTC'])\n",
    "price['bleutrade']['MOON/DOGE'] = bid(tickers['bleutrade']['MOON/DOGE'])\n",
    "price['bleutrade']['MOON/ETH']  = bid(tickers['bleutrade']['MOON/ETH']) \n",
    "\n",
    "price['bleutrade']['MOON/ETH/BTC']     = price['bleutrade']['MOON/ETH']  * price['bleutrade']['ETH/BTC']\n",
    "price['bleutrade']['MOON/DOGE/BTC']    = price['bleutrade']['MOON/DOGE'] * price['bleutrade']['DOGE/BTC']\n",
    "price['bittrex']['MOON/ETH/BTC']       = price['bleutrade']['MOON/ETH']  * price['bittrex']['ETH/BTC']\n",
    "price['bittrex']['MOON/DOGE/BTC']      = price['bleutrade']['MOON/DOGE'] * price['bittrex']['DOGE/BTC']\n",
    "price['bittrex']['MOON/ETH/BTC/USDT']  = price['bleutrade']['MOON/ETH/BTC']  * price['bittrex']['BTC/USDT']\n",
    "price['bittrex']['MOON/DOGE/BTC/USDT'] = price['bleutrade']['MOON/DOGE/BTC'] * price['bittrex']['BTC/USDT']\n",
    "price['bittrex']['MOON/BTC/USDT']      = price['bleutrade']['MOON/BTC']      * price['bittrex']['BTC/USDT']                                                                                         \n",
    "\n",
    "price                                                                                              "
   ]
  },
  {
   "cell_type": "code",
   "execution_count": 12,
   "metadata": {},
   "outputs": [
    {
     "data": {
      "text/plain": [
       "                 ask        bid       last        mid     spread\n",
       "DOGE/BTC     6.3e-07    6.1e-07    6.2e-07    6.2e-07  0.0327869\n",
       "DOGE/ETH    1.15e-05  1.064e-05  1.064e-05  1.107e-05  0.0808271\n",
       "ETH/BTC       0.0555     0.0552     0.0552    0.05535  0.0054346\n",
       "ETH/DOGE      100000    84259.3    84259.3    92129.6   0.186813\n",
       "MOON/BTC       2e-08      1e-08      2e-08    1.5e-08          1\n",
       "MOON/DOGE  0.0318965     0.0291  0.0318965  0.0304982  0.0960989\n",
       "MOON/ETH     3.3e-07      3e-07    2.6e-07   3.15e-07        0.1"
      ]
     },
     "execution_count": 12,
     "metadata": {},
     "output_type": "execute_result"
    }
   ],
   "source": [
    "bleutrade_markets = pd.DataFrame(bleutrade.fetch_tickers()).transpose()[['ask', 'bid', 'last']]\n",
    "bleutrade_markets['mid']    = (bleutrade_markets['ask'] + bleutrade_markets['bid']) / 2\n",
    "bleutrade_markets['spread'] = (bleutrade_markets['ask'] - bleutrade_markets['bid']) / bleutrade_markets['bid']\n",
    "bleutrade_markets = bleutrade_markets.filter(regex=\"MOON/|ETH/|DOGE/\", axis=0)\n",
    "bleutrade_markets"
   ]
  },
  {
   "cell_type": "code",
   "execution_count": 13,
   "metadata": {},
   "outputs": [
    {
     "name": "stdout",
     "output_type": "stream",
     "text": [
      "                       ask          bid         last          mid     spread\n",
      "DOGE/BTC           6.3e-07      6.1e-07      6.2e-07      6.2e-07  0.0327869\n",
      "DOGE/ETH          1.15e-05    1.064e-05    1.064e-05    1.107e-05  0.0808271\n",
      "ETH/BTC             0.0555       0.0552       0.0552      0.05535  0.0054346\n",
      "ETH/DOGE            100000      84259.3      84259.3      92129.6   0.186813\n",
      "MOON/BTC             2e-08        1e-08        2e-08      1.5e-08          1\n",
      "MOON/DOGE        0.0318965       0.0291    0.0318965    0.0304982  0.0960989\n",
      "MOON/ETH           3.3e-07        3e-07      2.6e-07     3.15e-07        0.1\n",
      "DOGE/ETH/BTC    6.3825e-07  5.87328e-07  5.87328e-07  6.12725e-07  0.0862617\n",
      "ETH/DOGE/BTC         0.063    0.0513981    0.0522407    0.0571204     0.2196\n",
      "MOON/DOGE/BTC  2.00948e-08   1.7751e-08  1.97758e-08  1.89089e-08   0.128886\n",
      "MOON/ETH/BTC    1.8315e-08    1.656e-08   1.4352e-08  1.74353e-08   0.105435\n"
     ]
    }
   ],
   "source": [
    "for symbol in bleutrade_markets.transpose():\n",
    "    top  = re.split('/', symbol)[0]\n",
    "    base = re.split('/', symbol)[-1]\n",
    "    if base == 'BTC': continue\n",
    "    if base in ['ETH', 'DOGE']:\n",
    "        bleutrade_markets.loc[symbol+'/BTC'] = bleutrade_markets.loc[symbol] * bleutrade_markets.loc[base+'/BTC'] \n",
    "        bleutrade_markets.loc[symbol+'/BTC']['spread'] = bleutrade_markets.loc[symbol]['spread'] + bleutrade_markets.loc[base+'/BTC']['spread']         \n",
    "\n",
    "print_full(bleutrade_markets)"
   ]
  },
  {
   "cell_type": "markdown",
   "metadata": {},
   "source": [
    "All MoonCoin Markets\n",
    "--------------------"
   ]
  },
  {
   "cell_type": "code",
   "execution_count": null,
   "metadata": {},
   "outputs": [],
   "source": []
  },
  {
   "cell_type": "code",
   "execution_count": 43,
   "metadata": {},
   "outputs": [
    {
     "data": {
      "text/plain": [
       "['bleutrade', 'coinmarketcap']"
      ]
     },
     "execution_count": 43,
     "metadata": {},
     "output_type": "execute_result"
    }
   ],
   "source": [
    "tickers = {}\n",
    "moon_exchanges = ['bleutrade', 'coinmarketcap']\n",
    "for exchange_name in list(moon_exchanges or ccxt.exchanges):\n",
    "    try: \n",
    "        ticker  = getattr(ccxt, exchange_name)().fetch_tickers()\n",
    "        symbols = list(filter(lambda symbol: \"MOON\" in symbol, ticker.keys()))\n",
    "        if len(symbols):            \n",
    "            if not exchange_name in moon_exchanges: moon_exchanges += [exchange_name]\n",
    "            for symbol in symbols:\n",
    "                ticker[symbol]['exchange'] = exchange_name\n",
    "                tickers[exchange_name+':'+symbol] = ticker[symbol]\n",
    "    except: pass\n",
    "        \n",
    "moon_exchanges"
   ]
  },
  {
   "cell_type": "code",
   "execution_count": 51,
   "metadata": {},
   "outputs": [
    {
     "data": {
      "text/plain": [
       "                            ask average   baseVolume       bid  ...   \\\n",
       "bleutrade:MOON/BTC        2e-08    None  9.28324e+08     1e-08  ...    \n",
       "bleutrade:MOON/DOGE      0.0342    None  2.05462e+08  0.033777  ...    \n",
       "bleutrade:MOON/ETH      3.7e-07    None  1.53373e+08   3.6e-07  ...    \n",
       "coinmarketcap:MOON/USD     None    None         None      None  ...    \n",
       "\n",
       "                        quoteVolume     symbol      timestamp  vwap  \n",
       "bleutrade:MOON/BTC          17.9379   MOON/BTC  1514811739000  None  \n",
       "bleutrade:MOON/DOGE     5.30623e+06  MOON/DOGE  1514811740000  None  \n",
       "bleutrade:MOON/ETH          42.2049   MOON/ETH  1514811744000  None  \n",
       "coinmarketcap:MOON/USD   1.4361e+06   MOON/USD  1514811541000  None  \n",
       "\n",
       "[4 rows x 19 columns]"
      ]
     },
     "execution_count": 51,
     "metadata": {},
     "output_type": "execute_result"
    }
   ],
   "source": [
    "tickers_df = pd.DataFrame(tickers)\n",
    "tickers_df.transpose()"
   ]
  },
  {
   "cell_type": "code",
   "execution_count": null,
   "metadata": {},
   "outputs": [],
   "source": []
  }
 ],
 "metadata": {
  "kernelspec": {
   "display_name": "Python 3",
   "language": "python",
   "name": "python3"
  },
  "language_info": {
   "codemirror_mode": {
    "name": "ipython",
    "version": 3
   },
   "file_extension": ".py",
   "mimetype": "text/x-python",
   "name": "python",
   "nbconvert_exporter": "python",
   "pygments_lexer": "ipython3",
   "version": "3.6.3"
  }
 },
 "nbformat": 4,
 "nbformat_minor": 2
}
