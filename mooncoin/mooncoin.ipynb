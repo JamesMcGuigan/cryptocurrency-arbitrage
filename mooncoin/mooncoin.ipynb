{
 "cells": [
  {
   "cell_type": "markdown",
   "metadata": {},
   "source": [
    "Mooncoin Market Analysis\n",
    "========================"
   ]
  },
  {
   "cell_type": "markdown",
   "metadata": {},
   "source": [
    "Documentation:\n",
    "- https://github.com/ccxt/ccxt/wiki"
   ]
  },
  {
   "cell_type": "code",
   "execution_count": 1,
   "metadata": {},
   "outputs": [],
   "source": [
    "import ccxt\n",
    "from pydash import py_ as _\n",
    "from datetime import datetime, timedelta\n",
    "from dateutil.parser import parse\n",
    "import pandas as pd\n",
    "import datetime\n",
    "import numpy as np\n",
    "import matplotlib\n",
    "import re\n",
    "\n",
    "pd.set_option('display.notebook_repr_html', False)\n",
    "pd.set_option('display.max_columns', 8)\n",
    "pd.set_option('display.max_rows', 8)\n",
    "\n",
    "def print_full(x):\n",
    "    pd.set_option('display.max_rows', len(x))\n",
    "    print(x)\n",
    "    pd.reset_option('display.max_rows')"
   ]
  },
  {
   "cell_type": "code",
   "execution_count": 2,
   "metadata": {},
   "outputs": [],
   "source": [
    "bleutrade    = ccxt.bleutrade({\"timeout\": 100*1000})\n",
    "bittrex      = ccxt.bittrex()"
   ]
  },
  {
   "cell_type": "code",
   "execution_count": 3,
   "metadata": {},
   "outputs": [
    {
     "data": {
      "text/plain": [
       "           amount            datetime side         price  btc_amount\n",
       "0    1.000000e+04 2018-01-02 01:37:23  buy  3.000000e-08    0.000300\n",
       "1    5.722657e+05 2018-01-02 01:37:20  buy  3.000000e-08    0.017168\n",
       "2    4.123824e+04 2018-01-02 01:34:11  buy  3.000000e-08    0.001237\n",
       "3    1.000000e+04 2018-01-02 01:33:25  buy  3.000000e-08    0.000300\n",
       "..            ...                 ...  ...           ...         ...\n",
       "196  5.192153e+04 2018-01-01 22:47:42  buy  3.000000e-08    0.001558\n",
       "197  9.592678e+04 2018-01-01 22:46:05  buy  3.000000e-08    0.002878\n",
       "198  1.000000e+07 2018-01-01 22:46:05  buy  3.000000e-08    0.300000\n",
       "199  1.000000e+07 2018-01-01 22:46:05  buy  3.000000e-08    0.300000\n",
       "\n",
       "[200 rows x 5 columns]"
      ]
     },
     "execution_count": 3,
     "metadata": {},
     "output_type": "execute_result"
    }
   ],
   "source": [
    "moonbtc_trades = pd.DataFrame(bleutrade.fetch_trades(\"MOON/BTC\", params={\"count\": 200}), columns=['amount', 'datetime', 'side', 'info'])\n",
    "moonbtc_trades['price']      = moonbtc_trades['info'].map(lambda x: float(x['Price']))\n",
    "moonbtc_trades['btc_amount'] = moonbtc_trades['amount'] * moonbtc_trades['price']\n",
    "del moonbtc_trades['info']\n",
    "moonbtc_trades['datetime'] = pd.to_datetime(moonbtc_trades['datetime']) # convert seconds to nanoseconds\n",
    "moonbtc_trades"
   ]
  },
  {
   "cell_type": "markdown",
   "metadata": {},
   "source": [
    "Mooncoin Volumes\n",
    "----------------"
   ]
  },
  {
   "cell_type": "markdown",
   "metadata": {},
   "source": [
    "**How far back in time does bleutrade order moonbtc_trades go?**\n",
    "\n",
    "- 2017-12-31: for max moonbtc_trades of 200 orders, Timedelta('0 days 11:28:11'), which is less than a day"
   ]
  },
  {
   "cell_type": "code",
   "execution_count": 4,
   "metadata": {},
   "outputs": [
    {
     "data": {
      "text/plain": [
       "Timedelta('0 days 02:51:18')"
      ]
     },
     "execution_count": 4,
     "metadata": {},
     "output_type": "execute_result"
    }
   ],
   "source": [
    "moonbtc_trades['datetime'].max() - moonbtc_trades['datetime'].min()"
   ]
  },
  {
   "cell_type": "markdown",
   "metadata": {},
   "source": [
    "**What is the average order size?**\n",
    "\n",
    "- 2017-12-31: Average orders are BTC 0.006385 (buy@2) - 0.007357 (sell@1) which is about $85-100 USD\n",
    "- 2017-12-31: Average orders are BTC 0.034786 (buy@2) - 0.000630 (sell@1) which is an order of magnitude shift in both directions"
   ]
  },
  {
   "cell_type": "code",
   "execution_count": 5,
   "metadata": {},
   "outputs": [
    {
     "data": {
      "text/plain": [
       "            amount         price  btc_amount\n",
       "side                                        \n",
       "buy   1.330161e+06  3.000000e-08    0.039905\n",
       "sell  2.408632e+06  2.000000e-08    0.048173"
      ]
     },
     "execution_count": 5,
     "metadata": {},
     "output_type": "execute_result"
    }
   ],
   "source": [
    "moonbtc_trades.groupby('side').mean()"
   ]
  },
  {
   "cell_type": "markdown",
   "metadata": {},
   "source": [
    "**What is the relative volume on the buy and sell sides of the market**\n",
    "\n",
    "- 2017-12-31: There is currently 2.9x BTC / 5.8x MOON volume on the sell@1 side of the market\n",
    "- 2018-01-01: There is currently 3.4 BTC / 6.8x MOON volume on the buy@2 side of the market"
   ]
  },
  {
   "cell_type": "code",
   "execution_count": 6,
   "metadata": {},
   "outputs": [
    {
     "data": {
      "text/plain": [
       "            amount  btc_amount\n",
       "side                          \n",
       "buy   2.407592e+08    7.222776\n",
       "sell  4.576400e+07    0.915280"
      ]
     },
     "execution_count": 6,
     "metadata": {},
     "output_type": "execute_result"
    }
   ],
   "source": [
    "moonbtc_trades_sum = moonbtc_trades[['amount', 'btc_amount','side']].groupby('side').sum()\n",
    "moonbtc_trades_sum"
   ]
  },
  {
   "cell_type": "code",
   "execution_count": 7,
   "metadata": {},
   "outputs": [
    {
     "data": {
      "text/plain": [
       "amount        0.190082\n",
       "btc_amount    0.126721\n",
       "dtype: float64"
      ]
     },
     "execution_count": 7,
     "metadata": {},
     "output_type": "execute_result"
    }
   ],
   "source": [
    "moonbtc_trades_sum.loc['sell'] / moonbtc_trades_sum.loc['buy']"
   ]
  },
  {
   "cell_type": "markdown",
   "metadata": {},
   "source": [
    "**Can we plot a chart for the buy/sell volume history**\n",
    "\n",
    "- 2017-12-31 - Apart from a massive 0.9 BTC sell@1 spike at 7am, volumes remain low but about even on both sides of the market\n",
    "- 2018-01-01 - Massive 5 BTC buy@2 spike at 10am"
   ]
  },
  {
   "cell_type": "code",
   "execution_count": 8,
   "metadata": {},
   "outputs": [
    {
     "data": {
      "text/plain": [
       "datetime  side\n",
       "0         buy     2.455956\n",
       "          sell    0.017669\n",
       "1         buy     0.336713\n",
       "          sell    0.007456\n",
       "22        buy     1.681585\n",
       "23        buy     2.748522\n",
       "          sell    0.890154\n",
       "Name: btc_amount, dtype: float64"
      ]
     },
     "execution_count": 8,
     "metadata": {},
     "output_type": "execute_result"
    }
   ],
   "source": [
    "moonbtc_trades_agg = moonbtc_trades.groupby([moonbtc_trades['datetime'].dt.hour, 'side'])['btc_amount'].sum()\n",
    "moonbtc_trades_agg.unstack().plot()\n",
    "moonbtc_trades_agg"
   ]
  },
  {
   "cell_type": "markdown",
   "metadata": {},
   "source": [
    "Price\n",
    "-----"
   ]
  },
  {
   "cell_type": "markdown",
   "metadata": {},
   "source": [
    "** What is the price of mooncoin **"
   ]
  },
  {
   "cell_type": "code",
   "execution_count": 9,
   "metadata": {},
   "outputs": [
    {
     "data": {
      "text/plain": [
       "{'ask': 3e-08,\n",
       " 'average': None,\n",
       " 'baseVolume': 3398190102.425489,\n",
       " 'bid': 2e-08,\n",
       " 'change': None,\n",
       " 'close': None,\n",
       " 'datetime': '2018-01-02T01:39:06.000Z',\n",
       " 'first': None,\n",
       " 'high': 3e-08,\n",
       " 'info': {'Ask': '0.00000003',\n",
       "  'Average': '0.00000002',\n",
       "  'BaseCurrency': 'Bitcoin',\n",
       "  'BaseVolume': '62.77901655',\n",
       "  'Bid': '0.00000002',\n",
       "  'High': '0.00000003',\n",
       "  'IsActive': 'true',\n",
       "  'Last': '0.00000003',\n",
       "  'Low': '0.00000001',\n",
       "  'MarketCurrency': 'Mooncoin',\n",
       "  'MarketName': 'MOON_BTC',\n",
       "  'PrevDay': '0.00000002',\n",
       "  'TimeStamp': '2018-01-02 01:39:06',\n",
       "  'Volume': '3398190102.42548895'},\n",
       " 'last': 3e-08,\n",
       " 'low': 1e-08,\n",
       " 'open': None,\n",
       " 'percentage': None,\n",
       " 'quoteVolume': 62.77901655,\n",
       " 'symbol': 'MOON/BTC',\n",
       " 'timestamp': 1514857146000,\n",
       " 'vwap': None}"
      ]
     },
     "execution_count": 9,
     "metadata": {},
     "output_type": "execute_result"
    }
   ],
   "source": [
    "tickers = {\n",
    "    'bleutrade': bleutrade.fetch_tickers(),\n",
    "    'bittrex':   bittrex.fetch_tickers(),\n",
    "}\n",
    "tickers['bleutrade']['MOON/BTC']"
   ]
  },
  {
   "cell_type": "code",
   "execution_count": 10,
   "metadata": {},
   "outputs": [],
   "source": [
    "def bid(market):       return market['bid']\n",
    "def mid(market):       return (market['ask'] + market['bid'])/2\n",
    "def spread(market):    return (market['ask'] - market['bid'])\n",
    "def spread_pc(market): return spread(market)/mid(market)"
   ]
  },
  {
   "cell_type": "code",
   "execution_count": 11,
   "metadata": {},
   "outputs": [
    {
     "data": {
      "text/plain": [
       "{'bittrex': {'BTC/USDT': 13706.2631579,\n",
       "  'DOGE/BTC': 6.4e-07,\n",
       "  'ETH/BTC': 0.05930124,\n",
       "  'MOON/BTC/USDT': 0.000274125263158,\n",
       "  'MOON/DOGE/BTC': 2.5919929599999997e-08,\n",
       "  'MOON/DOGE/BTC/USDT': 0.00035526537613184166,\n",
       "  'MOON/ETH/BTC': 2.78715828e-08,\n",
       "  'MOON/ETH/BTC/USDT': 0.00037649469600493934},\n",
       " 'bleutrade': {'DOGE/BTC': 6.4e-07,\n",
       "  'ETH/BTC': 0.05844427,\n",
       "  'MOON/BTC': 2e-08,\n",
       "  'MOON/DOGE': 0.04049989,\n",
       "  'MOON/DOGE/BTC': 2.5919929599999997e-08,\n",
       "  'MOON/ETH': 4.7e-07,\n",
       "  'MOON/ETH/BTC': 2.74688069e-08}}"
      ]
     },
     "execution_count": 11,
     "metadata": {},
     "output_type": "execute_result"
    }
   ],
   "source": [
    "\n",
    "price = {'bittrex': {}, 'bleutrade': {}}\n",
    "price['bittrex']['BTC/USDT']    = bid(tickers['bittrex']['BTC/USDT'])\n",
    "price['bittrex']['DOGE/BTC']    = bid(tickers['bittrex']['DOGE/BTC'])\n",
    "price['bittrex']['ETH/BTC']     = bid(tickers['bittrex']['ETH/BTC'])\n",
    "price['bleutrade']['DOGE/BTC']  = bid(tickers['bleutrade']['DOGE/BTC'])\n",
    "price['bleutrade']['ETH/BTC']   = bid(tickers['bleutrade']['ETH/BTC'])\n",
    "price['bleutrade']['MOON/BTC']  = bid(tickers['bleutrade']['MOON/BTC'])\n",
    "price['bleutrade']['MOON/DOGE'] = bid(tickers['bleutrade']['MOON/DOGE'])\n",
    "price['bleutrade']['MOON/ETH']  = bid(tickers['bleutrade']['MOON/ETH']) \n",
    "\n",
    "price['bleutrade']['MOON/ETH/BTC']     = price['bleutrade']['MOON/ETH']  * price['bleutrade']['ETH/BTC']\n",
    "price['bleutrade']['MOON/DOGE/BTC']    = price['bleutrade']['MOON/DOGE'] * price['bleutrade']['DOGE/BTC']\n",
    "price['bittrex']['MOON/ETH/BTC']       = price['bleutrade']['MOON/ETH']  * price['bittrex']['ETH/BTC']\n",
    "price['bittrex']['MOON/DOGE/BTC']      = price['bleutrade']['MOON/DOGE'] * price['bittrex']['DOGE/BTC']\n",
    "price['bittrex']['MOON/ETH/BTC/USDT']  = price['bleutrade']['MOON/ETH/BTC']  * price['bittrex']['BTC/USDT']\n",
    "price['bittrex']['MOON/DOGE/BTC/USDT'] = price['bleutrade']['MOON/DOGE/BTC'] * price['bittrex']['BTC/USDT']\n",
    "price['bittrex']['MOON/BTC/USDT']      = price['bleutrade']['MOON/BTC']      * price['bittrex']['BTC/USDT']                                                                                         \n",
    "\n",
    "price                                                                                              "
   ]
  },
  {
   "cell_type": "code",
   "execution_count": 12,
   "metadata": {},
   "outputs": [
    {
     "data": {
      "text/plain": [
       "                 ask        bid       last        mid       spread\n",
       "DOGE/BTC     6.5e-07    6.4e-07    6.4e-07   6.45e-07     0.015625\n",
       "DOGE/ETH   1.295e-05  1.093e-05  1.299e-05  1.194e-05     0.184812\n",
       "ETH/BTC     0.058796  0.0584443  0.0584443  0.0586201   0.00601838\n",
       "ETH/DOGE      109000    83625.7    83625.7    96312.9     0.303427\n",
       "MOON/BTC       3e-08      2e-08      3e-08    2.5e-08          0.5\n",
       "MOON/DOGE  0.0404999  0.0404999  0.0404999  0.0404999  2.46914e-07\n",
       "MOON/ETH     4.8e-07    4.7e-07    4.9e-07   4.75e-07    0.0212766"
      ]
     },
     "execution_count": 12,
     "metadata": {},
     "output_type": "execute_result"
    }
   ],
   "source": [
    "bleutrade_markets = pd.DataFrame(bleutrade.fetch_tickers()).transpose()[['ask', 'bid', 'last']]\n",
    "bleutrade_markets['mid']    = (bleutrade_markets['ask'] + bleutrade_markets['bid']) / 2\n",
    "bleutrade_markets['spread'] = (bleutrade_markets['ask'] - bleutrade_markets['bid']) / bleutrade_markets['bid']\n",
    "bleutrade_markets = bleutrade_markets.filter(regex=\"MOON/|ETH/|DOGE/\", axis=0)\n",
    "bleutrade_markets"
   ]
  },
  {
   "cell_type": "code",
   "execution_count": 13,
   "metadata": {},
   "outputs": [
    {
     "name": "stdout",
     "output_type": "stream",
     "text": [
      "                       ask          bid         last          mid       spread\n",
      "DOGE/BTC           6.5e-07      6.4e-07      6.4e-07     6.45e-07     0.015625\n",
      "DOGE/ETH         1.295e-05    1.093e-05    1.299e-05    1.194e-05     0.184812\n",
      "ETH/BTC           0.058796    0.0584443    0.0584443    0.0586201   0.00601838\n",
      "ETH/DOGE            109000      83625.7      83625.7      96312.9     0.303427\n",
      "MOON/BTC             3e-08        2e-08        3e-08      2.5e-08          0.5\n",
      "MOON/DOGE        0.0404999    0.0404999    0.0404999    0.0404999  2.46914e-07\n",
      "MOON/ETH           4.8e-07      4.7e-07      4.9e-07     4.75e-07    0.0212766\n",
      "DOGE/ETH/BTC   7.61408e-07  6.38796e-07  7.59191e-07  6.99924e-07     0.190831\n",
      "ETH/DOGE/BTC       0.07085    0.0535205    0.0535205    0.0621218     0.319052\n",
      "MOON/DOGE/BTC  2.63249e-08  2.59199e-08  2.59199e-08  2.61224e-08    0.0156252\n",
      "MOON/ETH/BTC   2.82221e-08  2.74688e-08  2.86377e-08  2.78446e-08     0.027295\n"
     ]
    }
   ],
   "source": [
    "for symbol in bleutrade_markets.transpose():\n",
    "    top  = re.split('/', symbol)[0]\n",
    "    base = re.split('/', symbol)[-1]\n",
    "    if base == 'BTC': continue\n",
    "    if base in ['ETH', 'DOGE']:\n",
    "        bleutrade_markets.loc[symbol+'/BTC'] = bleutrade_markets.loc[symbol] * bleutrade_markets.loc[base+'/BTC'] \n",
    "        bleutrade_markets.loc[symbol+'/BTC']['spread'] = bleutrade_markets.loc[symbol]['spread'] + bleutrade_markets.loc[base+'/BTC']['spread']         \n",
    "\n",
    "print_full(bleutrade_markets)"
   ]
  },
  {
   "cell_type": "markdown",
   "metadata": {},
   "source": [
    "All MoonCoin Markets\n",
    "--------------------"
   ]
  },
  {
   "cell_type": "code",
   "execution_count": null,
   "metadata": {},
   "outputs": [],
   "source": []
  },
  {
   "cell_type": "code",
   "execution_count": 14,
   "metadata": {},
   "outputs": [
    {
     "data": {
      "text/plain": [
       "'bleutrade'"
      ]
     },
     "execution_count": 14,
     "metadata": {},
     "output_type": "execute_result"
    }
   ],
   "source": [
    "tickers = {}\n",
    "moon_exchanges = 'bleutrade'\n",
    "for exchange_name in list(moon_exchanges or ccxt.exchanges):\n",
    "    try: \n",
    "        ticker  = getattr(ccxt, exchange_name)().fetch_tickers()\n",
    "        symbols = list(filter(lambda symbol: \"MOON\" in symbol, ticker.keys()))\n",
    "        if len(symbols):            \n",
    "            if not exchange_name in moon_exchanges: moon_exchanges += [exchange_name]\n",
    "            for symbol in symbols:\n",
    "                ticker[symbol]['exchange'] = exchange_name\n",
    "                tickers[exchange_name+':'+symbol] = ticker[symbol]\n",
    "    except: pass\n",
    "        \n",
    "moon_exchanges"
   ]
  },
  {
   "cell_type": "code",
   "execution_count": 15,
   "metadata": {},
   "outputs": [
    {
     "data": {
      "text/plain": [
       "Empty DataFrame\n",
       "Columns: []\n",
       "Index: []"
      ]
     },
     "execution_count": 15,
     "metadata": {},
     "output_type": "execute_result"
    }
   ],
   "source": [
    "tickers_df = pd.DataFrame(tickers)\n",
    "tickers_df.transpose()"
   ]
  },
  {
   "cell_type": "code",
   "execution_count": null,
   "metadata": {},
   "outputs": [],
   "source": []
  }
 ],
 "metadata": {
  "kernelspec": {
   "display_name": "Python 3",
   "language": "python",
   "name": "python3"
  },
  "language_info": {
   "codemirror_mode": {
    "name": "ipython",
    "version": 3
   },
   "file_extension": ".py",
   "mimetype": "text/x-python",
   "name": "python",
   "nbconvert_exporter": "python",
   "pygments_lexer": "ipython3",
   "version": "3.6.3"
  }
 },
 "nbformat": 4,
 "nbformat_minor": 2
}
